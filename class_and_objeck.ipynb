{
  "nbformat": 4,
  "nbformat_minor": 0,
  "metadata": {
    "colab": {
      "provenance": [],
      "toc_visible": true,
      "authorship_tag": "ABX9TyM5HlLdNziUuMI4BhB0RO9k",
      "include_colab_link": true
    },
    "kernelspec": {
      "name": "python3",
      "display_name": "Python 3"
    },
    "language_info": {
      "name": "python"
    }
  },
  "cells": [
    {
      "cell_type": "markdown",
      "metadata": {
        "id": "view-in-github",
        "colab_type": "text"
      },
      "source": [
        "<a href=\"https://colab.research.google.com/github/luthfial-bot/Luthfi-alkindi/blob/main/class_and_objeck.ipynb\" target=\"_parent\"><img src=\"https://colab.research.google.com/assets/colab-badge.svg\" alt=\"Open In Colab\"/></a>"
      ]
    },
    {
      "cell_type": "code",
      "source": [
        "class buah:\n",
        "    def __init__(self, nama, umur):\n",
        "        self.nama = nama\n",
        "        self.umur = umur\n",
        "\n",
        "    def busuk(self):\n",
        "        return f\"{self.nama} busuk!\"\n",
        "\n",
        "# Membuat objek dari kelas Anjing\n",
        "buah1 = buah(\"nangka\", 3)\n",
        "buah2 = buah(\"Lecy\", 5)\n",
        "\n",
        "# Menampilkan atribut dan memanggil metode\n",
        "print(buah1.nama)  # Output: Buddy\n",
        "print(buah2.umur)  # Output: 5\n",
        "print(buah1.busuk())\n"
      ],
      "metadata": {
        "colab": {
          "base_uri": "https://localhost:8080/"
        },
        "id": "GU4Ez4l4s8P6",
        "outputId": "e6e0d6cb-f58a-443e-d28e-d23a9619b90c"
      },
      "execution_count": null,
      "outputs": [
        {
          "output_type": "stream",
          "name": "stdout",
          "text": [
            "nangka\n",
            "5\n",
            "nangka busuk!\n"
          ]
        }
      ]
    },
    {
      "cell_type": "code",
      "source": [
        "class mobil:\n",
        "  def __init__(self,model,tahun,merk):\n",
        "    self.merk = merk\n",
        "    self.tahun = tahun\n",
        "    self.model = model\n",
        "\n",
        "  def deskripsi(self):\n",
        "    return f\"{self.merk}, {self.model}, tahun {self.tahun}\"\n",
        "\n",
        "  # membuat objek dari class mobil\n",
        "mobil = mobil(\"GTR\", \"nissan\", 2022)\n",
        "print(mobil.deskripsi())"
      ],
      "metadata": {
        "colab": {
          "base_uri": "https://localhost:8080/"
        },
        "id": "E3FMLUT_vAVD",
        "outputId": "f02f1e68-4aed-4240-bccf-2a7bc2b8ea00"
      },
      "execution_count": null,
      "outputs": [
        {
          "output_type": "stream",
          "name": "stdout",
          "text": [
            "2022, GTR, tahun nissan\n"
          ]
        }
      ]
    },
    {
      "cell_type": "code",
      "execution_count": null,
      "metadata": {
        "colab": {
          "base_uri": "https://localhost:8080/"
        },
        "id": "QqpMZfp3hVhK",
        "outputId": "53bdb395-f68d-4ef4-87e3-9f48d3ece644"
      },
      "outputs": [
        {
          "output_type": "stream",
          "name": "stdout",
          "text": [
            "101000000\n",
            "100500000\n",
            "Nama: Luthfi, Saldo: 100500000\n"
          ]
        }
      ],
      "source": [
        "class BankAccount:\n",
        "  def __init__(self, nama, saldo):\n",
        "    self.__nama = nama  # atribut privat\n",
        "    self.__saldo = saldo  # atribut privat\n",
        "\n",
        "  def deposit(self, jumlah):\n",
        "    if jumlah > 0:\n",
        "      self.__saldo += jumlah\n",
        "    else:\n",
        "      print(\"Jumlah harus positif!\")\n",
        "\n",
        "  def withdraw(self, jumlah):\n",
        "    if 0 < jumlah <= self.__saldo:\n",
        "      self.__saldo -= jumlah\n",
        "    else:\n",
        "      print(\"Jumlah tidak valid atau saldo tidak cukup!\")\n",
        "\n",
        "  def get_nama(self):\n",
        "    return self.__nama\n",
        "\n",
        "  def get_saldo(self):\n",
        "    return self.__saldo\n",
        "\n",
        "  def cek_saldo(self):\n",
        "    return self.__saldo\n",
        "\n",
        "  def __str__(self):\n",
        "    return f\"Nama: {self.__nama}, Saldo: {self.__saldo}\"\n",
        "\n",
        "# Membuat objek dari kelas BankAccount\n",
        "akun = BankAccount(\"Luthfi\", 100000000)\n",
        "akun.deposit(1000000)\n",
        "print(akun.cek_saldo())  # Output: 101000000\n",
        "\n",
        "akun.withdraw(500000)\n",
        "print(akun.cek_saldo())  # Output: 100500000\n",
        "\n",
        "print(akun)  # Output: Nama: Luthfi, Saldo: 100500000\n"
      ]
    },
    {
      "cell_type": "code",
      "source": [
        "class Rumah:\n",
        "    def __init__(self, alamat, jumlah_kamar, luas_tanah):\n",
        "        self.alamat = alamat\n",
        "        self.jumlah_kamar = jumlah_kamar\n",
        "        self.luas_tanah = luas_tanah\n",
        "        self.lampu_nyala = False  # Default kondisi lampu mati\n",
        "\n",
        "    def nyalakan_lampu(self):\n",
        "        self.lampu_nyala = True\n",
        "        return \"Lampu telah dinyalakan.\"\n",
        "\n",
        "    def matikan_lampu(self):\n",
        "        self.lampu_nyala = False\n",
        "        return \"Lampu telah dimatikan.\"\n",
        "\n",
        "    def deskripsi(self):\n",
        "        status_lampu = \"nyala\" if self.lampu_nyala else \"mati\"\n",
        "        return (f\"Rumah di {self.alamat} memiliki {self.jumlah_kamar} kamar, \"\n",
        "                f\"luas tanah {self.luas_tanah} m², dan lampu saat ini {status_lampu}.\")\n",
        "\n",
        "# Membuat objek dari kelas Rumah\n",
        "rumah1 = Rumah(\"ulee kareng meulasah baet sampeng mesjid belakang sd\", 3, 120)\n",
        "rumah2 = Rumah(\"lampineung jln.haji murtala\", 4, 150)\n",
        "\n",
        "# Menampilkan deskripsi rumah\n",
        "print(rumah1.deskripsi())  # Output informasi rumah1\n",
        "print(rumah2.deskripsi())  # Output informasi rumah2\n",
        "\n",
        "# Menyalakan lampu rumah1\n",
        "print(rumah1.nyalakan_lampu())\n",
        "print(rumah1.deskripsi())  # Mengecek status lampu setelah dinyalakan\n"
      ],
      "metadata": {
        "colab": {
          "base_uri": "https://localhost:8080/"
        },
        "id": "AxR-f0oBxdEm",
        "outputId": "a470b1b9-12b2-45fc-e320-befdf564a19b"
      },
      "execution_count": null,
      "outputs": [
        {
          "output_type": "stream",
          "name": "stdout",
          "text": [
            "Rumah di ulee kareng meulasah baet sampeng mesjid belakang sd memiliki 3 kamar, luas tanah 120 m², dan lampu saat ini mati.\n",
            "Rumah di lampineung jln.haji murtala memiliki 4 kamar, luas tanah 150 m², dan lampu saat ini mati.\n",
            "Lampu telah dinyalakan.\n",
            "Rumah di ulee kareng meulasah baet sampeng mesjid belakang sd memiliki 3 kamar, luas tanah 120 m², dan lampu saat ini nyala.\n"
          ]
        }
      ]
    },
    {
      "cell_type": "code",
      "source": [
        "from abc import ABC, abstractmethod\n",
        "\n",
        "class Hewan(ABC):  # Kelas abstrak harus mewarisi ABC\n",
        "    def __init__(self, nama):\n",
        "        self.nama = nama\n",
        "\n",
        "    @abstractmethod\n",
        "    def berbicara(self):\n",
        "        \"\"\"Metode abstrak yang harus diimplementasikan oleh subclass\"\"\"\n",
        "        pass\n",
        "\n",
        "# Subclass yang mengimplementasikan metode berbicara\n",
        "class Kucing(Hewan):\n",
        "    def berbicara(self):\n",
        "        return f\"{self.nama} berkata: Meow\"\n",
        "\n",
        "class Anjing(Hewan):\n",
        "    def berbicara(self):\n",
        "        return f\"{self.nama} berkata: Guk guk\"\n",
        "\n",
        "# Membuat objek dari subclass\n",
        "kucing = Kucing(\"Kitty\")\n",
        "anjing = Anjing(\"Buddy\")\n",
        "\n",
        "print(kucing.berbicara())  # Output: Kitty berkata: Meow\n",
        "print(anjing.berbicara())  # Output: Buddy berkata: Guk guk\n",
        "\n",
        "\n",
        "\n"
      ],
      "metadata": {
        "colab": {
          "base_uri": "https://localhost:8080/"
        },
        "id": "LZBQnlmKl9Mx",
        "outputId": "21ce2647-3fd0-4cdb-bd58-0c28393379cf"
      },
      "execution_count": null,
      "outputs": [
        {
          "output_type": "stream",
          "name": "stdout",
          "text": [
            "Kitty berkata: Meow\n",
            "Buddy berkata: Guk guk\n"
          ]
        }
      ]
    }
  ]
}