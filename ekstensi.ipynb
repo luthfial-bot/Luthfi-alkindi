{
  "nbformat": 4,
  "nbformat_minor": 0,
  "metadata": {
    "colab": {
      "provenance": [],
      "authorship_tag": "ABX9TyPk4mUMDgbz0Rl/24MPP2eq",
      "include_colab_link": true
    },
    "kernelspec": {
      "name": "python3",
      "display_name": "Python 3"
    },
    "language_info": {
      "name": "python"
    }
  },
  "cells": [
    {
      "cell_type": "markdown",
      "metadata": {
        "id": "view-in-github",
        "colab_type": "text"
      },
      "source": [
        "<a href=\"https://colab.research.google.com/github/luthfial-bot/Luthfi-alkindi/blob/main/ekstensi.ipynb\" target=\"_parent\"><img src=\"https://colab.research.google.com/assets/colab-badge.svg\" alt=\"Open In Colab\"/></a>"
      ]
    },
    {
      "cell_type": "code",
      "execution_count": null,
      "metadata": {
        "colab": {
          "base_uri": "https://localhost:8080/"
        },
        "id": "SYl0GkC1fTwT",
        "outputId": "c8091ef2-36e8-4027-b144-cc780ffeff22"
      },
      "outputs": [
        {
          "output_type": "stream",
          "name": "stdout",
          "text": [
            "Budi details:\n",
            "Rambut:  Ikal\n",
            "Warna Rambut:  Hitam\n",
            "\n",
            "Michael details:\n",
            "Rambut:  Lurus\n",
            "Warna Rambut:  Pirang\n"
          ]
        }
      ],
      "source": [
        "class Person:\n",
        "    # Class Variable\n",
        "    person = 'Person'\n",
        "\n",
        "    # The init method or constructor\n",
        "    def __init__(self, rambut, warna):\n",
        "        # Instance Variable\n",
        "        self.rambut = rambut\n",
        "        self.warna = warna\n",
        "\n",
        "# Objects\n",
        "budi = Person(\"Ikal\", \"Hitam\")\n",
        "michael = Person(\"Lurus\", \"Pirang\")\n",
        "\n",
        "print('Budi details:')\n",
        "print('Rambut: ', budi.rambut)\n",
        "print('Warna Rambut: ', budi.warna)\n",
        "\n",
        "print('\\nMichael details:')\n",
        "print('Rambut: ', michael.rambut)\n",
        "print('Warna Rambut: ', michael.warna)\n"
      ]
    },
    {
      "cell_type": "code",
      "source": [
        "class Meja:\n",
        "    # Class variable\n",
        "    jenis_furnitur = \"Meja\"\n",
        "\n",
        "    # Constructor\n",
        "    def __init__(self, bentuk, bahan, warna):\n",
        "        self.bentuk = bentuk\n",
        "        self.bahan = bahan\n",
        "        self.warna = warna\n",
        "\n",
        "# Membuat object dari class Meja\n",
        "meja1 = Meja(\"Persegi\", \"Kayu\", \"Coklat\")\n",
        "meja2 = Meja(\"Bulat\", \"Plastik\", \"Putih\")\n",
        "\n",
        "# Menampilkan informasi meja1\n",
        "print(\"Informasi Meja 1:\")\n",
        "print(\"Bentuk:\", meja1.bentuk)\n",
        "print(\"Bahan:\", meja1.bahan)\n",
        "print(\"Warna:\", meja1.warna)\n"
      ],
      "metadata": {
        "id": "xot1WT_nfvOu",
        "outputId": "6f27d2ea-fc44-45e1-9f72-320d7a5703d6",
        "colab": {
          "base_uri": "https://localhost:8080/"
        }
      },
      "execution_count": null,
      "outputs": [
        {
          "output_type": "stream",
          "name": "stdout",
          "text": [
            "Informasi Meja 1:\n",
            "Bentuk: Persegi\n",
            "Bahan: Kayu\n",
            "Warna: Coklat\n"
          ]
        }
      ]
    }
  ]
}